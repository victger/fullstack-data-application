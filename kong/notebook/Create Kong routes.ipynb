{
 "cells": [
  {
   "cell_type": "code",
   "execution_count": 9,
   "metadata": {},
   "outputs": [],
   "source": [
    "import requests"
   ]
  },
  {
   "cell_type": "code",
   "execution_count": 3,
   "metadata": {},
   "outputs": [],
   "source": [
    "ENKI_API_SERVICE_ID = \"enki\""
   ]
  },
  {
   "cell_type": "code",
   "execution_count": 67,
   "metadata": {},
   "outputs": [],
   "source": [
    "KONG_HOST_IP = \"localhost\"\n",
    "KONG_PORT = 8001\n",
    "\n",
    "KEYCLOAK_URL = \"http://localhost:8080/auth/\"\n",
    "USERNAME = \"admin\"\n",
    "PASSWORD = 'Pa55w0rd'\n",
    "MASTER_REALM_NAME = \"master\"\n",
    "\n",
    "CLIENT_ID = \"kong_test_client-4\"\n"
   ]
  },
  {
   "cell_type": "code",
   "execution_count": 81,
   "metadata": {},
   "outputs": [],
   "source": [
    "#def clean():\n",
    "response = requests.get(f'http://{KONG_HOST_IP}:{KONG_PORT}/routes')\n",
    "for _id in [e[\"id\"] for e in response.json()[\"data\"]]:\n",
    "    requests.delete(f'http://{KONG_HOST_IP}:{KONG_PORT}/routes/{_id}')\n",
    "response = requests.get(f'http://{KONG_HOST_IP}:{KONG_PORT}/services')\n",
    "for _id in [e[\"id\"] for e in response.json()[\"data\"]]:\n",
    "    requests.delete(f'http://{KONG_HOST_IP}:{KONG_PORT}/services/{_id}')"
   ]
  },
  {
   "cell_type": "markdown",
   "metadata": {},
   "source": [
    "# Create Kong client "
   ]
  },
  {
   "cell_type": "code",
   "execution_count": 84,
   "metadata": {},
   "outputs": [],
   "source": [
    "import uuid"
   ]
  },
  {
   "cell_type": "code",
   "execution_count": 85,
   "metadata": {},
   "outputs": [
    {
     "data": {
      "text/plain": [
       "'1bfafcce-6ada-4230-ac57-e7b9f15fcf8a'"
      ]
     },
     "execution_count": 85,
     "metadata": {},
     "output_type": "execute_result"
    }
   ],
   "source": []
  },
  {
   "cell_type": "code",
   "execution_count": 68,
   "metadata": {},
   "outputs": [],
   "source": [
    "from keycloak import KeycloakAdmin\n",
    "\n",
    "\n",
    "\n",
    "#%%\n",
    "\n",
    "keycloak_admin = KeycloakAdmin(server_url=KEYCLOAK_URL,\n",
    "                               username=USERNAME,\n",
    "                           password=PASSWORD,\n",
    "                               verify=True)"
   ]
  },
  {
   "cell_type": "code",
   "execution_count": 70,
   "metadata": {},
   "outputs": [
    {
     "data": {
      "text/plain": [
       "b''"
      ]
     },
     "execution_count": 70,
     "metadata": {},
     "output_type": "execute_result"
    }
   ],
   "source": [
    "keycloak_admin.create_client({\n",
    " \"id\":\"4\",\n",
    " \"clientId\":CLIENT_ID,\n",
    " \"name\":CLIENT_ID,\n",
    " \"enabled\": True,\n",
    " \"redirectUris\":[ \"/front/*\", \"/api/*\" ],\n",
    "})"
   ]
  },
  {
   "cell_type": "code",
   "execution_count": 71,
   "metadata": {},
   "outputs": [
    {
     "data": {
      "text/plain": [
       "'9d0cd4b1-aa0b-4020-804a-c34af78f499e'"
      ]
     },
     "execution_count": 71,
     "metadata": {},
     "output_type": "execute_result"
    }
   ],
   "source": [
    "client_secret_key = keycloak_admin.get_client_secrets(\"4\")[\"value\"]\n",
    "client_secret_key"
   ]
  },
  {
   "cell_type": "code",
   "execution_count": 82,
   "metadata": {},
   "outputs": [
    {
     "name": "stdout",
     "output_type": "stream",
     "text": [
      "http://keycloak:8080/auth/realms/master/protocol/openid-connect/token/introspect\n",
      "http://keycloak:8080/auth/realms/master/.well-known/openid-configuration\n"
     ]
    }
   ],
   "source": [
    "services = [\n",
    "    {\n",
    "        'name': \"front_service\",\n",
    "        'url': f'http://nginx:7777/front',\n",
    "        'path': \"front\"\n",
    "\n",
    "    },\n",
    "        {\n",
    "        'name': \"api_service\",\n",
    "        'url': f'http://nginx:7777/api',\n",
    "        'path': \"api\"\n",
    "\n",
    "    }\n",
    "]\n",
    "\n",
    "REALM_NAME = \"master\"\n",
    "KEYCLOAK_HOST_IP=\"keycloak\"\n",
    "KEYCLOAK_PORT=8080\n",
    "\n",
    "introspection_url = f'http://{KEYCLOAK_HOST_IP}:{KEYCLOAK_PORT}/auth/realms/{REALM_NAME}/protocol/openid-connect/token/introspect'\n",
    "discovery_url = f'http://{KEYCLOAK_HOST_IP}:{KEYCLOAK_PORT}/auth/realms/{REALM_NAME}/.well-known/openid-configuration'\n",
    "\"http://localhost:8080/auth/realms/master/protocol/openid-connect/token/introspect\"\n",
    "print(introspection_url)\n",
    "print(discovery_url)"
   ]
  },
  {
   "cell_type": "code",
   "execution_count": 83,
   "metadata": {},
   "outputs": [
    {
     "name": "stdout",
     "output_type": "stream",
     "text": [
      "{'id': 'b1acb341-d3a0-4041-8052-fc28f6e0e632', 'tags': None, 'paths': ['/front'], 'destinations': None, 'headers': None, 'protocols': ['http', 'https'], 'strip_path': True, 'created_at': 1617960987, 'request_buffering': True, 'hosts': None, 'name': None, 'updated_at': 1617960987, 'snis': None, 'preserve_host': False, 'regex_priority': 0, 'methods': None, 'sources': None, 'response_buffering': True, 'https_redirect_status_code': 426, 'path_handling': 'v0', 'service': {'id': 'a5658547-7eff-4c8e-a5b9-062b1dc65bae'}}\n",
      "{'created_at': 1617960987, 'id': '6cbc123a-6a1a-425d-9885-176df91f6330', 'tags': None, 'enabled': True, 'protocols': ['grpc', 'grpcs', 'http', 'https'], 'name': 'oidc', 'consumer': None, 'service': {'id': 'a5658547-7eff-4c8e-a5b9-062b1dc65bae'}, 'route': None, 'config': {'response_type': 'code', 'introspection_endpoint': 'http://keycloak:8080/auth/realms/master/protocol/openid-connect/token/introspect', 'filters': None, 'bearer_only': 'true', 'ssl_verify': 'no', 'session_secret': None, 'introspection_endpoint_auth_method': None, 'realm': 'master', 'redirect_after_logout_uri': '/', 'scope': 'openid', 'token_endpoint_auth_method': 'client_secret_post', 'logout_path': '/logout', 'client_id': 'kong_test_client-4', 'client_secret': '9d0cd4b1-aa0b-4020-804a-c34af78f499e', 'discovery': 'http://keycloak:8080/auth/realms/master/.well-known/openid-configuration', 'recovery_page_path': None, 'redirect_uri_path': None}}\n",
      "{'id': '249ca8d3-a15b-4e34-bbff-313405cb89bf', 'tags': None, 'paths': ['/api'], 'destinations': None, 'headers': None, 'protocols': ['http', 'https'], 'strip_path': True, 'created_at': 1617960987, 'request_buffering': True, 'hosts': None, 'name': None, 'updated_at': 1617960987, 'snis': None, 'preserve_host': False, 'regex_priority': 0, 'methods': None, 'sources': None, 'response_buffering': True, 'https_redirect_status_code': 426, 'path_handling': 'v0', 'service': {'id': 'baa2757f-8f0a-44dd-90d3-0327edf954c3'}}\n",
      "{'created_at': 1617960987, 'id': 'b8c0d943-c87a-4926-91dd-80868297e96e', 'tags': None, 'enabled': True, 'protocols': ['grpc', 'grpcs', 'http', 'https'], 'name': 'oidc', 'consumer': None, 'service': {'id': 'baa2757f-8f0a-44dd-90d3-0327edf954c3'}, 'route': None, 'config': {'response_type': 'code', 'introspection_endpoint': 'http://keycloak:8080/auth/realms/master/protocol/openid-connect/token/introspect', 'filters': None, 'bearer_only': 'true', 'ssl_verify': 'no', 'session_secret': None, 'introspection_endpoint_auth_method': None, 'realm': 'master', 'redirect_after_logout_uri': '/', 'scope': 'openid', 'token_endpoint_auth_method': 'client_secret_post', 'logout_path': '/logout', 'client_id': 'kong_test_client-4', 'client_secret': '9d0cd4b1-aa0b-4020-804a-c34af78f499e', 'discovery': 'http://keycloak:8080/auth/realms/master/.well-known/openid-configuration', 'recovery_page_path': None, 'redirect_uri_path': None}}\n"
     ]
    }
   ],
   "source": [
    "for service in services:\n",
    "    data = service\n",
    "    \n",
    "    # Create Service\n",
    "    response = requests.post(f'http://{KONG_HOST_IP}:{KONG_PORT}/services', data=data)\n",
    "    created_service_id = response.json()[\"id\"]\n",
    "    \n",
    "    # Create route\n",
    "    data = {\n",
    "        'service.id': f'{created_service_id}',\n",
    "        'paths[]': f'/{service[\"path\"]}',\n",
    "    }\n",
    "\n",
    "    response = requests.post(f'http://{KONG_HOST_IP}:{KONG_PORT}/services/{service[\"name\"]}/routes', data=data)      \n",
    "    # Configure OIDC \n",
    "    data = {\n",
    "        'name': 'oidc',\n",
    "        'config.client_id': f'{CLIENT_ID}',\n",
    "        'config.client_secret': f'{client_secret_key}',\n",
    "        'config.realm': f'{REALM_NAME}',\n",
    "        'config.bearer_only': 'true',\n",
    "        'config.introspection_endpoint':introspection_url,\n",
    "        'config.discovery':discovery_url\n",
    "    }\n",
    "\n",
    "    response = requests.post(f'http://{KONG_HOST_IP}:{KONG_PORT}/services/{created_service_id}/plugins', data=data)"
   ]
  },
  {
   "cell_type": "markdown",
   "metadata": {},
   "source": [
    "# Configure OIDC connect"
   ]
  },
  {
   "cell_type": "code",
   "execution_count": 76,
   "metadata": {},
   "outputs": [
    {
     "data": {
      "text/plain": [
       "'http://localhost:8001/services/d2b6908c-3fcd-4090-a3b5-9f0ae573196f/plugins'"
      ]
     },
     "execution_count": 76,
     "metadata": {},
     "output_type": "execute_result"
    }
   ],
   "source": [
    "f\"http://{KONG_HOST_IP}:{KONG_PORT}/services/{created_service_id}/plugins\""
   ]
  },
  {
   "cell_type": "code",
   "execution_count": null,
   "metadata": {},
   "outputs": [],
   "source": []
  }
 ],
 "metadata": {
  "kernelspec": {
   "display_name": "Python 3",
   "language": "python",
   "name": "python3"
  },
  "language_info": {
   "codemirror_mode": {
    "name": "ipython",
    "version": 3
   },
   "file_extension": ".py",
   "mimetype": "text/x-python",
   "name": "python",
   "nbconvert_exporter": "python",
   "pygments_lexer": "ipython3",
   "version": "3.6.10"
  }
 },
 "nbformat": 4,
 "nbformat_minor": 2
}
