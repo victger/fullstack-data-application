{
 "cells": [
  {
   "cell_type": "code",
   "execution_count": 8,
   "metadata": {},
   "outputs": [],
   "source": [
    "# TP Kong"
   ]
  },
  {
   "cell_type": "markdown",
   "metadata": {},
   "source": [
    "Pour ce TP, nous allons utiliser une API assez simple et ouverte du gouvernement qui permet de récupérer tous les jours feriés.\n",
    "\n",
    "Pour les besoins du TP vous pourrez réaliser vos requêtes HTTP via Curl de la manière suivante:"
   ]
  },
  {
   "cell_type": "code",
   "execution_count": 6,
   "metadata": {},
   "outputs": [
    {
     "name": "stderr",
     "output_type": "stream",
     "text": [
      "curl: (3) URL using bad/illegal format or missing URL\n",
      "  % Total    % Received % Xferd  Average Speed   Time    Time     Time  Current\n",
      "                                 Dload  Upload   Total   Spent    Left  Speed\n",
      "\n",
      "  0     0    0     0    0     0      0      0 --:--:-- --:--:-- --:--:--     0\n",
      "  0     0    0     0    0     0      0      0 --:--:-- --:--:-- --:--:--     0\n",
      "  0     0    0     0    0     0      0      0 --:--:--  0:00:01 --:--:--     0curl: (6) Could not resolve host: application\n"
     ]
    }
   ],
   "source": [
    "!curl -X 'GET' \\\n",
    "  'https://calendrier.api.gouv.fr/jours-feries/metropole.json' \\\n",
    "  -H 'accept: application/json'"
   ]
  },
  {
   "cell_type": "markdown",
   "metadata": {},
   "source": [
    "ou via le package python requests comme ceci : "
   ]
  },
  {
   "cell_type": "code",
   "execution_count": 7,
   "metadata": {},
   "outputs": [
    {
     "data": {
      "text/plain": [
       "{'2028-01-01': '1er janvier',\n",
       " '2028-04-17': 'Lundi de Pâques',\n",
       " '2028-05-01': '1er mai',\n",
       " '2028-05-08': '8 mai',\n",
       " '2028-05-25': 'Ascension',\n",
       " '2028-06-05': 'Lundi de Pentecôte',\n",
       " '2028-07-14': '14 juillet',\n",
       " '2028-08-15': 'Assomption',\n",
       " '2028-11-01': 'Toussaint',\n",
       " '2028-11-11': '11 novembre',\n",
       " '2028-12-25': 'Jour de Noël',\n",
       " '2027-01-01': '1er janvier',\n",
       " '2027-03-29': 'Lundi de Pâques',\n",
       " '2027-05-01': '1er mai',\n",
       " '2027-05-06': 'Ascension',\n",
       " '2027-05-08': '8 mai',\n",
       " '2027-05-17': 'Lundi de Pentecôte',\n",
       " '2027-07-14': '14 juillet',\n",
       " '2027-08-15': 'Assomption',\n",
       " '2027-11-01': 'Toussaint',\n",
       " '2027-11-11': '11 novembre',\n",
       " '2027-12-25': 'Jour de Noël',\n",
       " '2026-01-01': '1er janvier',\n",
       " '2026-04-06': 'Lundi de Pâques',\n",
       " '2026-05-01': '1er mai',\n",
       " '2026-05-08': '8 mai',\n",
       " '2026-05-14': 'Ascension',\n",
       " '2026-05-25': 'Lundi de Pentecôte',\n",
       " '2026-07-14': '14 juillet',\n",
       " '2026-08-15': 'Assomption',\n",
       " '2026-11-01': 'Toussaint',\n",
       " '2026-11-11': '11 novembre',\n",
       " '2026-12-25': 'Jour de Noël',\n",
       " '2025-01-01': '1er janvier',\n",
       " '2025-04-21': 'Lundi de Pâques',\n",
       " '2025-05-01': '1er mai',\n",
       " '2025-05-08': '8 mai',\n",
       " '2025-05-29': 'Ascension',\n",
       " '2025-06-09': 'Lundi de Pentecôte',\n",
       " '2025-07-14': '14 juillet',\n",
       " '2025-08-15': 'Assomption',\n",
       " '2025-11-01': 'Toussaint',\n",
       " '2025-11-11': '11 novembre',\n",
       " '2025-12-25': 'Jour de Noël',\n",
       " '2024-01-01': '1er janvier',\n",
       " '2024-04-01': 'Lundi de Pâques',\n",
       " '2024-05-01': '1er mai',\n",
       " '2024-05-08': '8 mai',\n",
       " '2024-05-09': 'Ascension',\n",
       " '2024-05-20': 'Lundi de Pentecôte',\n",
       " '2024-07-14': '14 juillet',\n",
       " '2024-08-15': 'Assomption',\n",
       " '2024-11-01': 'Toussaint',\n",
       " '2024-11-11': '11 novembre',\n",
       " '2024-12-25': 'Jour de Noël',\n",
       " '2023-01-01': '1er janvier',\n",
       " '2023-04-10': 'Lundi de Pâques',\n",
       " '2023-05-01': '1er mai',\n",
       " '2023-05-08': '8 mai',\n",
       " '2023-05-18': 'Ascension',\n",
       " '2023-05-29': 'Lundi de Pentecôte',\n",
       " '2023-07-14': '14 juillet',\n",
       " '2023-08-15': 'Assomption',\n",
       " '2023-11-01': 'Toussaint',\n",
       " '2023-11-11': '11 novembre',\n",
       " '2023-12-25': 'Jour de Noël',\n",
       " '2022-01-01': '1er janvier',\n",
       " '2022-04-18': 'Lundi de Pâques',\n",
       " '2022-05-01': '1er mai',\n",
       " '2022-05-08': '8 mai',\n",
       " '2022-05-26': 'Ascension',\n",
       " '2022-06-06': 'Lundi de Pentecôte',\n",
       " '2022-07-14': '14 juillet',\n",
       " '2022-08-15': 'Assomption',\n",
       " '2022-11-01': 'Toussaint',\n",
       " '2022-11-11': '11 novembre',\n",
       " '2022-12-25': 'Jour de Noël',\n",
       " '2021-01-01': '1er janvier',\n",
       " '2021-04-05': 'Lundi de Pâques',\n",
       " '2021-05-01': '1er mai',\n",
       " '2021-05-08': '8 mai',\n",
       " '2021-05-13': 'Ascension',\n",
       " '2021-05-24': 'Lundi de Pentecôte',\n",
       " '2021-07-14': '14 juillet',\n",
       " '2021-08-15': 'Assomption',\n",
       " '2021-11-01': 'Toussaint',\n",
       " '2021-11-11': '11 novembre',\n",
       " '2021-12-25': 'Jour de Noël',\n",
       " '2020-01-01': '1er janvier',\n",
       " '2020-04-13': 'Lundi de Pâques',\n",
       " '2020-05-01': '1er mai',\n",
       " '2020-05-08': '8 mai',\n",
       " '2020-05-21': 'Ascension',\n",
       " '2020-06-01': 'Lundi de Pentecôte',\n",
       " '2020-07-14': '14 juillet',\n",
       " '2020-08-15': 'Assomption',\n",
       " '2020-11-01': 'Toussaint',\n",
       " '2020-11-11': '11 novembre',\n",
       " '2020-12-25': 'Jour de Noël',\n",
       " '2019-01-01': '1er janvier',\n",
       " '2019-04-22': 'Lundi de Pâques',\n",
       " '2019-05-01': '1er mai',\n",
       " '2019-05-08': '8 mai',\n",
       " '2019-05-30': 'Ascension',\n",
       " '2019-06-10': 'Lundi de Pentecôte',\n",
       " '2019-07-14': '14 juillet',\n",
       " '2019-08-15': 'Assomption',\n",
       " '2019-11-01': 'Toussaint',\n",
       " '2019-11-11': '11 novembre',\n",
       " '2019-12-25': 'Jour de Noël',\n",
       " '2018-01-01': '1er janvier',\n",
       " '2018-04-02': 'Lundi de Pâques',\n",
       " '2018-05-01': '1er mai',\n",
       " '2018-05-08': '8 mai',\n",
       " '2018-05-10': 'Ascension',\n",
       " '2018-05-21': 'Lundi de Pentecôte',\n",
       " '2018-07-14': '14 juillet',\n",
       " '2018-08-15': 'Assomption',\n",
       " '2018-11-01': 'Toussaint',\n",
       " '2018-11-11': '11 novembre',\n",
       " '2018-12-25': 'Jour de Noël',\n",
       " '2017-01-01': '1er janvier',\n",
       " '2017-04-17': 'Lundi de Pâques',\n",
       " '2017-05-01': '1er mai',\n",
       " '2017-05-08': '8 mai',\n",
       " '2017-05-25': 'Ascension',\n",
       " '2017-06-05': 'Lundi de Pentecôte',\n",
       " '2017-07-14': '14 juillet',\n",
       " '2017-08-15': 'Assomption',\n",
       " '2017-11-01': 'Toussaint',\n",
       " '2017-11-11': '11 novembre',\n",
       " '2017-12-25': 'Jour de Noël',\n",
       " '2016-01-01': '1er janvier',\n",
       " '2016-03-28': 'Lundi de Pâques',\n",
       " '2016-05-01': '1er mai',\n",
       " '2016-05-05': 'Ascension',\n",
       " '2016-05-08': '8 mai',\n",
       " '2016-05-16': 'Lundi de Pentecôte',\n",
       " '2016-07-14': '14 juillet',\n",
       " '2016-08-15': 'Assomption',\n",
       " '2016-11-01': 'Toussaint',\n",
       " '2016-11-11': '11 novembre',\n",
       " '2016-12-25': 'Jour de Noël',\n",
       " '2015-01-01': '1er janvier',\n",
       " '2015-04-06': 'Lundi de Pâques',\n",
       " '2015-05-01': '1er mai',\n",
       " '2015-05-08': '8 mai',\n",
       " '2015-05-14': 'Ascension',\n",
       " '2015-05-25': 'Lundi de Pentecôte',\n",
       " '2015-07-14': '14 juillet',\n",
       " '2015-08-15': 'Assomption',\n",
       " '2015-11-01': 'Toussaint',\n",
       " '2015-11-11': '11 novembre',\n",
       " '2015-12-25': 'Jour de Noël',\n",
       " '2014-01-01': '1er janvier',\n",
       " '2014-04-21': 'Lundi de Pâques',\n",
       " '2014-05-01': '1er mai',\n",
       " '2014-05-08': '8 mai',\n",
       " '2014-05-29': 'Ascension',\n",
       " '2014-06-09': 'Lundi de Pentecôte',\n",
       " '2014-07-14': '14 juillet',\n",
       " '2014-08-15': 'Assomption',\n",
       " '2014-11-01': 'Toussaint',\n",
       " '2014-11-11': '11 novembre',\n",
       " '2014-12-25': 'Jour de Noël',\n",
       " '2013-01-01': '1er janvier',\n",
       " '2013-04-01': 'Lundi de Pâques',\n",
       " '2013-05-01': '1er mai',\n",
       " '2013-05-08': '8 mai',\n",
       " '2013-05-09': 'Ascension',\n",
       " '2013-05-20': 'Lundi de Pentecôte',\n",
       " '2013-07-14': '14 juillet',\n",
       " '2013-08-15': 'Assomption',\n",
       " '2013-11-01': 'Toussaint',\n",
       " '2013-11-11': '11 novembre',\n",
       " '2013-12-25': 'Jour de Noël',\n",
       " '2012-01-01': '1er janvier',\n",
       " '2012-04-09': 'Lundi de Pâques',\n",
       " '2012-05-01': '1er mai',\n",
       " '2012-05-08': '8 mai',\n",
       " '2012-05-17': 'Ascension',\n",
       " '2012-05-28': 'Lundi de Pentecôte',\n",
       " '2012-07-14': '14 juillet',\n",
       " '2012-08-15': 'Assomption',\n",
       " '2012-11-01': 'Toussaint',\n",
       " '2012-11-11': '11 novembre',\n",
       " '2012-12-25': 'Jour de Noël',\n",
       " '2011-01-01': '1er janvier',\n",
       " '2011-04-25': 'Lundi de Pâques',\n",
       " '2011-05-01': '1er mai',\n",
       " '2011-05-08': '8 mai',\n",
       " '2011-06-02': 'Ascension',\n",
       " '2011-06-13': 'Lundi de Pentecôte',\n",
       " '2011-07-14': '14 juillet',\n",
       " '2011-08-15': 'Assomption',\n",
       " '2011-11-01': 'Toussaint',\n",
       " '2011-11-11': '11 novembre',\n",
       " '2011-12-25': 'Jour de Noël',\n",
       " '2010-01-01': '1er janvier',\n",
       " '2010-04-05': 'Lundi de Pâques',\n",
       " '2010-05-01': '1er mai',\n",
       " '2010-05-08': '8 mai',\n",
       " '2010-05-13': 'Ascension',\n",
       " '2010-05-24': 'Lundi de Pentecôte',\n",
       " '2010-07-14': '14 juillet',\n",
       " '2010-08-15': 'Assomption',\n",
       " '2010-11-01': 'Toussaint',\n",
       " '2010-11-11': '11 novembre',\n",
       " '2010-12-25': 'Jour de Noël',\n",
       " '2009-01-01': '1er janvier',\n",
       " '2009-04-13': 'Lundi de Pâques',\n",
       " '2009-05-01': '1er mai',\n",
       " '2009-05-08': '8 mai',\n",
       " '2009-05-21': 'Ascension',\n",
       " '2009-06-01': 'Lundi de Pentecôte',\n",
       " '2009-07-14': '14 juillet',\n",
       " '2009-08-15': 'Assomption',\n",
       " '2009-11-01': 'Toussaint',\n",
       " '2009-11-11': '11 novembre',\n",
       " '2009-12-25': 'Jour de Noël',\n",
       " '2008-01-01': '1er janvier',\n",
       " '2008-03-24': 'Lundi de Pâques',\n",
       " '2008-05-01': 'Ascension',\n",
       " '2008-05-08': '8 mai',\n",
       " '2008-05-12': 'Lundi de Pentecôte',\n",
       " '2008-07-14': '14 juillet',\n",
       " '2008-08-15': 'Assomption',\n",
       " '2008-11-01': 'Toussaint',\n",
       " '2008-11-11': '11 novembre',\n",
       " '2008-12-25': 'Jour de Noël',\n",
       " '2007-01-01': '1er janvier',\n",
       " '2007-04-09': 'Lundi de Pâques',\n",
       " '2007-05-01': '1er mai',\n",
       " '2007-05-08': '8 mai',\n",
       " '2007-05-17': 'Ascension',\n",
       " '2007-05-28': 'Lundi de Pentecôte',\n",
       " '2007-07-14': '14 juillet',\n",
       " '2007-08-15': 'Assomption',\n",
       " '2007-11-01': 'Toussaint',\n",
       " '2007-11-11': '11 novembre',\n",
       " '2007-12-25': 'Jour de Noël',\n",
       " '2006-01-01': '1er janvier',\n",
       " '2006-04-17': 'Lundi de Pâques',\n",
       " '2006-05-01': '1er mai',\n",
       " '2006-05-08': '8 mai',\n",
       " '2006-05-25': 'Ascension',\n",
       " '2006-06-05': 'Lundi de Pentecôte',\n",
       " '2006-07-14': '14 juillet',\n",
       " '2006-08-15': 'Assomption',\n",
       " '2006-11-01': 'Toussaint',\n",
       " '2006-11-11': '11 novembre',\n",
       " '2006-12-25': 'Jour de Noël',\n",
       " '2005-01-01': '1er janvier',\n",
       " '2005-03-28': 'Lundi de Pâques',\n",
       " '2005-05-01': '1er mai',\n",
       " '2005-05-05': 'Ascension',\n",
       " '2005-05-08': '8 mai',\n",
       " '2005-05-16': 'Lundi de Pentecôte',\n",
       " '2005-07-14': '14 juillet',\n",
       " '2005-08-15': 'Assomption',\n",
       " '2005-11-01': 'Toussaint',\n",
       " '2005-11-11': '11 novembre',\n",
       " '2005-12-25': 'Jour de Noël',\n",
       " '2004-01-01': '1er janvier',\n",
       " '2004-04-12': 'Lundi de Pâques',\n",
       " '2004-05-01': '1er mai',\n",
       " '2004-05-08': '8 mai',\n",
       " '2004-05-20': 'Ascension',\n",
       " '2004-05-31': 'Lundi de Pentecôte',\n",
       " '2004-07-14': '14 juillet',\n",
       " '2004-08-15': 'Assomption',\n",
       " '2004-11-01': 'Toussaint',\n",
       " '2004-11-11': '11 novembre',\n",
       " '2004-12-25': 'Jour de Noël',\n",
       " '2003-01-01': '1er janvier',\n",
       " '2003-04-21': 'Lundi de Pâques',\n",
       " '2003-05-01': '1er mai',\n",
       " '2003-05-08': '8 mai',\n",
       " '2003-05-29': 'Ascension',\n",
       " '2003-06-09': 'Lundi de Pentecôte',\n",
       " '2003-07-14': '14 juillet',\n",
       " '2003-08-15': 'Assomption',\n",
       " '2003-11-01': 'Toussaint',\n",
       " '2003-11-11': '11 novembre',\n",
       " '2003-12-25': 'Jour de Noël'}"
      ]
     },
     "execution_count": 7,
     "metadata": {},
     "output_type": "execute_result"
    }
   ],
   "source": [
    "import requests\n",
    "\n",
    "headers = {\n",
    "    'accept': 'application/json',\n",
    "}\n",
    "\n",
    "response = requests.get('https://calendrier.api.gouv.fr/jours-feries/metropole.json', headers=headers)\n",
    "response.json()"
   ]
  },
  {
   "cell_type": "markdown",
   "metadata": {},
   "source": [
    "## Configurer le service et la route "
   ]
  },
  {
   "cell_type": "markdown",
   "metadata": {},
   "source": [
    "### Le service "
   ]
  },
  {
   "cell_type": "markdown",
   "metadata": {},
   "source": [
    "#### Curl "
   ]
  },
  {
   "cell_type": "code",
   "execution_count": 8,
   "metadata": {},
   "outputs": [
    {
     "name": "stdout",
     "output_type": "stream",
     "text": [
      "HTTP/1.1 400 Bad Request\n",
      "Date: Fri, 20 Oct 2023 12:23:01 GMT\n",
      "Content-Type: application/json; charset=utf-8\n",
      "Connection: keep-alive\n",
      "Access-Control-Allow-Origin: *\n",
      "Access-Control-Allow-Credentials: true\n",
      "Content-Length: 232\n",
      "X-Kong-Admin-Latency: 8\n",
      "Server: kong/3.4.2\n",
      "\n",
      "{\"code\":2,\"message\":\"3 schema violations ('name: unknown field; 'url: unknown field; host: required field missing)\",\"fields\":{\"'name\":\"unknown field\",\"host\":\"required field missing\",\"'url\":\"unknown field\"},\"name\":\"schema violation\"}\n"
     ]
    },
    {
     "name": "stderr",
     "output_type": "stream",
     "text": [
      "  % Total    % Received % Xferd  Average Speed   Time    Time     Time  Current\n",
      "                                 Dload  Upload   Total   Spent    Left  Speed\n",
      "\n",
      "  0     0    0     0    0     0      0      0 --:--:-- --:--:-- --:--:--     0\n",
      "100   288  100   232  100    56  14916   3600 --:--:-- --:--:-- --:--:-- 19200\n"
     ]
    }
   ],
   "source": [
    "!curl -i -X POST \\\n",
    "  --url http://localhost:8001/services/ \\\n",
    "  --data 'name=jours-feries' \\\n",
    "  --data 'url=https://calendrier.api.gouv.fr'"
   ]
  },
  {
   "cell_type": "markdown",
   "metadata": {},
   "source": [
    "#### Requests "
   ]
  },
  {
   "cell_type": "code",
   "execution_count": 9,
   "metadata": {},
   "outputs": [],
   "source": [
    "import requests\n",
    "\n",
    "data = {\n",
    "  'name': 'jours-feries',\n",
    "  'url': 'https://calendrier.api.gouv.fr'\n",
    "}\n",
    "\n",
    "response = requests.post('http://localhost:8001/services/', data=data)"
   ]
  },
  {
   "cell_type": "markdown",
   "metadata": {},
   "source": [
    "### Une route"
   ]
  },
  {
   "cell_type": "markdown",
   "metadata": {},
   "source": [
    "#### Curl "
   ]
  },
  {
   "cell_type": "code",
   "execution_count": 10,
   "metadata": {},
   "outputs": [
    {
     "name": "stdout",
     "output_type": "stream",
     "text": [
      "HTTP/1.1 400 Bad Request\n",
      "Date: Fri, 20 Oct 2023 12:23:06 GMT\n",
      "Content-Type: application/json; charset=utf-8\n",
      "Connection: keep-alive\n",
      "Access-Control-Allow-Origin: *\n",
      "Access-Control-Allow-Credentials: true\n",
      "Content-Length: 325\n",
      "X-Kong-Admin-Latency: 19\n",
      "Server: kong/3.4.2\n",
      "\n",
      "{\"code\":2,\"message\":\"2 schema violations (must set one of 'methods', 'hosts', 'headers', 'paths', 'snis' when 'protocols' is 'https'; 'hosts: unknown field)\",\"fields\":{\"'hosts\":\"unknown field\",\"@entity\":[\"must set one of 'methods', 'hosts', 'headers', 'paths', 'snis' when 'protocols' is 'https'\"]},\"name\":\"schema violation\"}\n"
     ]
    },
    {
     "name": "stderr",
     "output_type": "stream",
     "text": [
      "  % Total    % Received % Xferd  Average Speed   Time    Time     Time  Current\n",
      "                                 Dload  Upload   Total   Spent    Left  Speed\n",
      "\n",
      "  0     0    0     0    0     0      0      0 --:--:-- --:--:-- --:--:--     0\n",
      "100   357  100   325  100    32  11647   1146 --:--:-- --:--:-- --:--:-- 13222\n"
     ]
    }
   ],
   "source": [
    "!curl -i -X POST \\\n",
    "  --url http://localhost:8001/services/jours-feries/routes \\\n",
    "  --data 'hosts[]=calendrier.api.gouv.fr'"
   ]
  },
  {
   "cell_type": "markdown",
   "metadata": {},
   "source": [
    "#### Requests "
   ]
  },
  {
   "cell_type": "code",
   "execution_count": 11,
   "metadata": {},
   "outputs": [],
   "source": [
    "import requests\n",
    "\n",
    "data = {\n",
    "  'hosts[]': 'calendrier.api.gouv.fr'\n",
    "}\n",
    "\n",
    "response = requests.post('http://localhost:8001/services/jours-feries/routes', data=data)\n"
   ]
  },
  {
   "cell_type": "markdown",
   "metadata": {},
   "source": [
    "### Récupérer les données via notre Interface Kong"
   ]
  },
  {
   "cell_type": "markdown",
   "metadata": {},
   "source": [
    "#### Curl "
   ]
  },
  {
   "cell_type": "code",
   "execution_count": 12,
   "metadata": {},
   "outputs": [
    {
     "name": "stdout",
     "output_type": "stream",
     "text": [
      "HTTP/1.1 404 Not Found\n",
      "Date: Fri, 20 Oct 2023 12:23:17 GMT\n",
      "Content-Type: application/json; charset=utf-8\n",
      "Connection: keep-alive\n",
      "Content-Length: 52\n",
      "X-Kong-Response-Latency: 1\n",
      "Server: kong/3.4.2\n",
      "\n",
      "{\n",
      "  \"message\":\"no Route matched with those values\"\n",
      "}\n"
     ]
    },
    {
     "name": "stderr",
     "output_type": "stream",
     "text": [
      "  % Total    % Received % Xferd  Average Speed   Time    Time     Time  Current\n",
      "                                 Dload  Upload   Total   Spent    Left  Speed\n",
      "\n",
      "  0     0    0     0    0     0      0      0 --:--:-- --:--:-- --:--:--     0\n",
      "100    52  100    52    0     0   5894      0 --:--:-- --:--:-- --:--:--  6500\n",
      "curl: (3) URL using bad/illegal format or missing URL\n"
     ]
    }
   ],
   "source": [
    "!curl -i -X GET \\\n",
    "  --url http://localhost:8000/jours-feries/metropole.json \\\n",
    "  --header 'Host: calendrier.api.gouv.fr'"
   ]
  },
  {
   "cell_type": "markdown",
   "metadata": {},
   "source": [
    "#### Requests "
   ]
  },
  {
   "cell_type": "code",
   "execution_count": 13,
   "metadata": {},
   "outputs": [],
   "source": [
    "import requests\n",
    "\n",
    "headers = {\n",
    "    'Host': 'calendrier.api.gouv.fr',\n",
    "}\n",
    "\n",
    "response = requests.get('http://localhost:8000/jours-feries/metropole.json', headers=headers)\n"
   ]
  },
  {
   "cell_type": "markdown",
   "metadata": {},
   "source": [
    "## Sécuriser via API Key "
   ]
  },
  {
   "cell_type": "markdown",
   "metadata": {},
   "source": [
    "https://docs.konghq.com/hub/kong-inc/key-auth/"
   ]
  },
  {
   "cell_type": "markdown",
   "metadata": {},
   "source": [
    "### Créer un consumer"
   ]
  },
  {
   "cell_type": "markdown",
   "metadata": {},
   "source": [
    "#### Curl "
   ]
  },
  {
   "cell_type": "code",
   "execution_count": 14,
   "metadata": {},
   "outputs": [
    {
     "name": "stdout",
     "output_type": "stream",
     "text": [
      "{\"custom_id\":null,\"tags\":null,\"id\":\"831f49a5-f8cb-400e-8792-a8145066259b\",\"username\":\"esieeparis\",\"created_at\":1697804676,\"updated_at\":1697804676}\n"
     ]
    },
    {
     "name": "stderr",
     "output_type": "stream",
     "text": [
      "  % Total    % Received % Xferd  Average Speed   Time    Time     Time  Current\n",
      "                                 Dload  Upload   Total   Spent    Left  Speed\n",
      "\n",
      "  0     0    0     0    0     0      0      0 --:--:-- --:--:-- --:--:--     0\n",
      "100   165  100   146  100    19   5273    686 --:--:-- --:--:-- --:--:--  6111\n"
     ]
    }
   ],
   "source": [
    "!curl -XPOST  -d  \"username=esieeparis\" http://localhost:8001/consumers/\n"
   ]
  },
  {
   "cell_type": "markdown",
   "metadata": {},
   "source": [
    "#### Requests "
   ]
  },
  {
   "cell_type": "code",
   "execution_count": 15,
   "metadata": {},
   "outputs": [],
   "source": [
    "import requests\n",
    "\n",
    "data = {\n",
    "  'username': 'esieeparis'\n",
    "}\n",
    "\n",
    "response = requests.post('http://localhost:8001/consumers/', data=data)"
   ]
  },
  {
   "cell_type": "markdown",
   "metadata": {},
   "source": [
    "#### Curl "
   ]
  },
  {
   "cell_type": "code",
   "execution_count": 18,
   "metadata": {},
   "outputs": [
    {
     "name": "stdout",
     "output_type": "stream",
     "text": [
      "{\"key\":\"L7g3XYuqxuoREUYZi5f0i17XYC12P1RT\",\"consumer\":{\"id\":\"831f49a5-f8cb-400e-8792-a8145066259b\"},\"id\":\"e46661e3-2d74-4174-aed1-f764393489b2\",\"tags\":null,\"created_at\":1697804802,\"ttl\":null}\n"
     ]
    },
    {
     "name": "stderr",
     "output_type": "stream",
     "text": [
      "  % Total    % Received % Xferd  Average Speed   Time    Time     Time  Current\n",
      "                                 Dload  Upload   Total   Spent    Left  Speed\n",
      "\n",
      "  0     0    0     0    0     0      0      0 --:--:-- --:--:-- --:--:--     0\n",
      "100   190  100   190    0     0   5695      0 --:--:-- --:--:-- --:--:--  5757\n"
     ]
    }
   ],
   "source": [
    "!curl -X POST http://localhost:8001/consumers/esieeparis/key-auth"
   ]
  },
  {
   "cell_type": "markdown",
   "metadata": {},
   "source": [
    "#### Requests "
   ]
  },
  {
   "cell_type": "code",
   "execution_count": 20,
   "metadata": {},
   "outputs": [
    {
     "data": {
      "text/plain": [
       "{'key': 'nXIOINs89pdIsfWZq7XESccjjkwhZPsg',\n",
       " 'consumer': {'id': '831f49a5-f8cb-400e-8792-a8145066259b'},\n",
       " 'id': '239d92ea-60de-40e2-b787-37eb2031fb12',\n",
       " 'tags': None,\n",
       " 'created_at': 1697805171,\n",
       " 'ttl': None}"
      ]
     },
     "execution_count": 20,
     "metadata": {},
     "output_type": "execute_result"
    }
   ],
   "source": [
    "import requests\n",
    "\n",
    "response = requests.post('http://localhost:8001/consumers/esieeparis/key-auth')\n",
    "json_data = response.json()\n",
    "json_data"
   ]
  },
  {
   "cell_type": "code",
   "execution_count": 21,
   "metadata": {},
   "outputs": [],
   "source": [
    "key = json_data[\"key\"]"
   ]
  },
  {
   "cell_type": "code",
   "execution_count": 22,
   "metadata": {},
   "outputs": [
    {
     "data": {
      "text/plain": [
       "'nXIOINs89pdIsfWZq7XESccjjkwhZPsg'"
      ]
     },
     "execution_count": 22,
     "metadata": {},
     "output_type": "execute_result"
    }
   ],
   "source": [
    "key"
   ]
  },
  {
   "cell_type": "markdown",
   "metadata": {},
   "source": [
    "### Configurer l'API Key sur la route"
   ]
  },
  {
   "cell_type": "code",
   "execution_count": 26,
   "metadata": {},
   "outputs": [
    {
     "name": "stdout",
     "output_type": "stream",
     "text": [
      "{\"next\":null,\"data\":[{\"port\":443,\"client_certificate\":null,\"path\":null,\"connect_timeout\":60000,\"read_timeout\":60000,\"name\":\"jours-feries\",\"host\":\"calendrier.api.gouv.fr\",\"id\":\"e8e5fdd8-e041-46af-948a-4077090d519d\",\"enabled\":true,\"retries\":5,\"tls_verify\":null,\"write_timeout\":60000,\"tls_verify_depth\":null,\"tags\":null,\"ca_certificates\":null,\"protocol\":\"https\",\"created_at\":1697804390,\"updated_at\":1697804390}]}\n"
     ]
    },
    {
     "name": "stderr",
     "output_type": "stream",
     "text": [
      "  % Total    % Received % Xferd  Average Speed   Time    Time     Time  Current\n",
      "                                 Dload  Upload   Total   Spent    Left  Speed\n",
      "\n",
      "  0     0    0     0    0     0      0      0 --:--:-- --:--:-- --:--:--     0\n",
      "100   409  100   409    0     0  18012      0 --:--:-- --:--:-- --:--:-- 18590\n"
     ]
    }
   ],
   "source": [
    "!curl -X GET http://localhost:8001/services"
   ]
  },
  {
   "cell_type": "code",
   "execution_count": 27,
   "metadata": {},
   "outputs": [],
   "source": [
    "SERVICE_ID = \"e8e5fdd8-e041-46af-948a-4077090d519d\""
   ]
  },
  {
   "cell_type": "code",
   "execution_count": 28,
   "metadata": {},
   "outputs": [
    {
     "name": "stdout",
     "output_type": "stream",
     "text": [
      "{\"name\":\"key-auth\",\"instance_name\":null,\"id\":\"7efb4d73-10d2-4566-93be-8abd22228a33\",\"route\":null,\"service\":{\"id\":\"e8e5fdd8-e041-46af-948a-4077090d519d\"},\"enabled\":true,\"tags\":null,\"consumer\":null,\"config\":{\"key_in_query\":true,\"key_in_body\":false,\"anonymous\":null,\"run_on_preflight\":true,\"key_names\":[\"apikey\"],\"hide_credentials\":false,\"key_in_header\":true},\"protocols\":[\"grpc\",\"grpcs\",\"http\",\"https\"],\"created_at\":1697805616,\"updated_at\":1697805616}\n"
     ]
    },
    {
     "name": "stderr",
     "output_type": "stream",
     "text": [
      "  % Total    % Received % Xferd  Average Speed   Time    Time     Time  Current\n",
      "                                 Dload  Upload   Total   Spent    Left  Speed\n",
      "\n",
      "  0     0    0     0    0     0      0      0 --:--:-- --:--:-- --:--:--     0\n",
      "100   486  100   449  100    37  16423   1353 --:--:-- --:--:-- --:--:-- 18000\n"
     ]
    }
   ],
   "source": [
    "!curl -X POST http://localhost:8001/services/e8e5fdd8-e041-46af-948a-4077090d519d/plugins \\\n",
    "    --data \"name=key-auth\"  \\\n",
    "    --data \"config.key_names=apikey\""
   ]
  },
  {
   "cell_type": "markdown",
   "metadata": {},
   "source": [
    "#### Réaliser la requête avec l'apiKey"
   ]
  },
  {
   "cell_type": "code",
   "execution_count": 102,
   "metadata": {},
   "outputs": [
    {
     "data": {
      "text/plain": [
       "{'message': 'Invalid authentication credentials'}"
      ]
     },
     "execution_count": 102,
     "metadata": {},
     "output_type": "execute_result"
    }
   ],
   "source": [
    "import requests\n",
    "\n",
    "headers = {\n",
    "    'Host': 'calendrier.api.gouv.fr',\n",
    "    'apiKey' : \"a false api key\"\n",
    "}\n",
    "\n",
    "response = requests.get('http://localhost:8000/jours-feries/metropole.json', headers=headers)\n",
    "response.json()"
   ]
  },
  {
   "cell_type": "code",
   "execution_count": 29,
   "metadata": {},
   "outputs": [
    {
     "data": {
      "text/plain": [
       "{'2028-01-01': '1er janvier',\n",
       " '2028-04-17': 'Lundi de Pâques',\n",
       " '2028-05-01': '1er mai',\n",
       " '2028-05-08': '8 mai',\n",
       " '2028-05-25': 'Ascension',\n",
       " '2028-06-05': 'Lundi de Pentecôte',\n",
       " '2028-07-14': '14 juillet',\n",
       " '2028-08-15': 'Assomption',\n",
       " '2028-11-01': 'Toussaint',\n",
       " '2028-11-11': '11 novembre',\n",
       " '2028-12-25': 'Jour de Noël',\n",
       " '2027-01-01': '1er janvier',\n",
       " '2027-03-29': 'Lundi de Pâques',\n",
       " '2027-05-01': '1er mai',\n",
       " '2027-05-06': 'Ascension',\n",
       " '2027-05-08': '8 mai',\n",
       " '2027-05-17': 'Lundi de Pentecôte',\n",
       " '2027-07-14': '14 juillet',\n",
       " '2027-08-15': 'Assomption',\n",
       " '2027-11-01': 'Toussaint',\n",
       " '2027-11-11': '11 novembre',\n",
       " '2027-12-25': 'Jour de Noël',\n",
       " '2026-01-01': '1er janvier',\n",
       " '2026-04-06': 'Lundi de Pâques',\n",
       " '2026-05-01': '1er mai',\n",
       " '2026-05-08': '8 mai',\n",
       " '2026-05-14': 'Ascension',\n",
       " '2026-05-25': 'Lundi de Pentecôte',\n",
       " '2026-07-14': '14 juillet',\n",
       " '2026-08-15': 'Assomption',\n",
       " '2026-11-01': 'Toussaint',\n",
       " '2026-11-11': '11 novembre',\n",
       " '2026-12-25': 'Jour de Noël',\n",
       " '2025-01-01': '1er janvier',\n",
       " '2025-04-21': 'Lundi de Pâques',\n",
       " '2025-05-01': '1er mai',\n",
       " '2025-05-08': '8 mai',\n",
       " '2025-05-29': 'Ascension',\n",
       " '2025-06-09': 'Lundi de Pentecôte',\n",
       " '2025-07-14': '14 juillet',\n",
       " '2025-08-15': 'Assomption',\n",
       " '2025-11-01': 'Toussaint',\n",
       " '2025-11-11': '11 novembre',\n",
       " '2025-12-25': 'Jour de Noël',\n",
       " '2024-01-01': '1er janvier',\n",
       " '2024-04-01': 'Lundi de Pâques',\n",
       " '2024-05-01': '1er mai',\n",
       " '2024-05-08': '8 mai',\n",
       " '2024-05-09': 'Ascension',\n",
       " '2024-05-20': 'Lundi de Pentecôte',\n",
       " '2024-07-14': '14 juillet',\n",
       " '2024-08-15': 'Assomption',\n",
       " '2024-11-01': 'Toussaint',\n",
       " '2024-11-11': '11 novembre',\n",
       " '2024-12-25': 'Jour de Noël',\n",
       " '2023-01-01': '1er janvier',\n",
       " '2023-04-10': 'Lundi de Pâques',\n",
       " '2023-05-01': '1er mai',\n",
       " '2023-05-08': '8 mai',\n",
       " '2023-05-18': 'Ascension',\n",
       " '2023-05-29': 'Lundi de Pentecôte',\n",
       " '2023-07-14': '14 juillet',\n",
       " '2023-08-15': 'Assomption',\n",
       " '2023-11-01': 'Toussaint',\n",
       " '2023-11-11': '11 novembre',\n",
       " '2023-12-25': 'Jour de Noël',\n",
       " '2022-01-01': '1er janvier',\n",
       " '2022-04-18': 'Lundi de Pâques',\n",
       " '2022-05-01': '1er mai',\n",
       " '2022-05-08': '8 mai',\n",
       " '2022-05-26': 'Ascension',\n",
       " '2022-06-06': 'Lundi de Pentecôte',\n",
       " '2022-07-14': '14 juillet',\n",
       " '2022-08-15': 'Assomption',\n",
       " '2022-11-01': 'Toussaint',\n",
       " '2022-11-11': '11 novembre',\n",
       " '2022-12-25': 'Jour de Noël',\n",
       " '2021-01-01': '1er janvier',\n",
       " '2021-04-05': 'Lundi de Pâques',\n",
       " '2021-05-01': '1er mai',\n",
       " '2021-05-08': '8 mai',\n",
       " '2021-05-13': 'Ascension',\n",
       " '2021-05-24': 'Lundi de Pentecôte',\n",
       " '2021-07-14': '14 juillet',\n",
       " '2021-08-15': 'Assomption',\n",
       " '2021-11-01': 'Toussaint',\n",
       " '2021-11-11': '11 novembre',\n",
       " '2021-12-25': 'Jour de Noël',\n",
       " '2020-01-01': '1er janvier',\n",
       " '2020-04-13': 'Lundi de Pâques',\n",
       " '2020-05-01': '1er mai',\n",
       " '2020-05-08': '8 mai',\n",
       " '2020-05-21': 'Ascension',\n",
       " '2020-06-01': 'Lundi de Pentecôte',\n",
       " '2020-07-14': '14 juillet',\n",
       " '2020-08-15': 'Assomption',\n",
       " '2020-11-01': 'Toussaint',\n",
       " '2020-11-11': '11 novembre',\n",
       " '2020-12-25': 'Jour de Noël',\n",
       " '2019-01-01': '1er janvier',\n",
       " '2019-04-22': 'Lundi de Pâques',\n",
       " '2019-05-01': '1er mai',\n",
       " '2019-05-08': '8 mai',\n",
       " '2019-05-30': 'Ascension',\n",
       " '2019-06-10': 'Lundi de Pentecôte',\n",
       " '2019-07-14': '14 juillet',\n",
       " '2019-08-15': 'Assomption',\n",
       " '2019-11-01': 'Toussaint',\n",
       " '2019-11-11': '11 novembre',\n",
       " '2019-12-25': 'Jour de Noël',\n",
       " '2018-01-01': '1er janvier',\n",
       " '2018-04-02': 'Lundi de Pâques',\n",
       " '2018-05-01': '1er mai',\n",
       " '2018-05-08': '8 mai',\n",
       " '2018-05-10': 'Ascension',\n",
       " '2018-05-21': 'Lundi de Pentecôte',\n",
       " '2018-07-14': '14 juillet',\n",
       " '2018-08-15': 'Assomption',\n",
       " '2018-11-01': 'Toussaint',\n",
       " '2018-11-11': '11 novembre',\n",
       " '2018-12-25': 'Jour de Noël',\n",
       " '2017-01-01': '1er janvier',\n",
       " '2017-04-17': 'Lundi de Pâques',\n",
       " '2017-05-01': '1er mai',\n",
       " '2017-05-08': '8 mai',\n",
       " '2017-05-25': 'Ascension',\n",
       " '2017-06-05': 'Lundi de Pentecôte',\n",
       " '2017-07-14': '14 juillet',\n",
       " '2017-08-15': 'Assomption',\n",
       " '2017-11-01': 'Toussaint',\n",
       " '2017-11-11': '11 novembre',\n",
       " '2017-12-25': 'Jour de Noël',\n",
       " '2016-01-01': '1er janvier',\n",
       " '2016-03-28': 'Lundi de Pâques',\n",
       " '2016-05-01': '1er mai',\n",
       " '2016-05-05': 'Ascension',\n",
       " '2016-05-08': '8 mai',\n",
       " '2016-05-16': 'Lundi de Pentecôte',\n",
       " '2016-07-14': '14 juillet',\n",
       " '2016-08-15': 'Assomption',\n",
       " '2016-11-01': 'Toussaint',\n",
       " '2016-11-11': '11 novembre',\n",
       " '2016-12-25': 'Jour de Noël',\n",
       " '2015-01-01': '1er janvier',\n",
       " '2015-04-06': 'Lundi de Pâques',\n",
       " '2015-05-01': '1er mai',\n",
       " '2015-05-08': '8 mai',\n",
       " '2015-05-14': 'Ascension',\n",
       " '2015-05-25': 'Lundi de Pentecôte',\n",
       " '2015-07-14': '14 juillet',\n",
       " '2015-08-15': 'Assomption',\n",
       " '2015-11-01': 'Toussaint',\n",
       " '2015-11-11': '11 novembre',\n",
       " '2015-12-25': 'Jour de Noël',\n",
       " '2014-01-01': '1er janvier',\n",
       " '2014-04-21': 'Lundi de Pâques',\n",
       " '2014-05-01': '1er mai',\n",
       " '2014-05-08': '8 mai',\n",
       " '2014-05-29': 'Ascension',\n",
       " '2014-06-09': 'Lundi de Pentecôte',\n",
       " '2014-07-14': '14 juillet',\n",
       " '2014-08-15': 'Assomption',\n",
       " '2014-11-01': 'Toussaint',\n",
       " '2014-11-11': '11 novembre',\n",
       " '2014-12-25': 'Jour de Noël',\n",
       " '2013-01-01': '1er janvier',\n",
       " '2013-04-01': 'Lundi de Pâques',\n",
       " '2013-05-01': '1er mai',\n",
       " '2013-05-08': '8 mai',\n",
       " '2013-05-09': 'Ascension',\n",
       " '2013-05-20': 'Lundi de Pentecôte',\n",
       " '2013-07-14': '14 juillet',\n",
       " '2013-08-15': 'Assomption',\n",
       " '2013-11-01': 'Toussaint',\n",
       " '2013-11-11': '11 novembre',\n",
       " '2013-12-25': 'Jour de Noël',\n",
       " '2012-01-01': '1er janvier',\n",
       " '2012-04-09': 'Lundi de Pâques',\n",
       " '2012-05-01': '1er mai',\n",
       " '2012-05-08': '8 mai',\n",
       " '2012-05-17': 'Ascension',\n",
       " '2012-05-28': 'Lundi de Pentecôte',\n",
       " '2012-07-14': '14 juillet',\n",
       " '2012-08-15': 'Assomption',\n",
       " '2012-11-01': 'Toussaint',\n",
       " '2012-11-11': '11 novembre',\n",
       " '2012-12-25': 'Jour de Noël',\n",
       " '2011-01-01': '1er janvier',\n",
       " '2011-04-25': 'Lundi de Pâques',\n",
       " '2011-05-01': '1er mai',\n",
       " '2011-05-08': '8 mai',\n",
       " '2011-06-02': 'Ascension',\n",
       " '2011-06-13': 'Lundi de Pentecôte',\n",
       " '2011-07-14': '14 juillet',\n",
       " '2011-08-15': 'Assomption',\n",
       " '2011-11-01': 'Toussaint',\n",
       " '2011-11-11': '11 novembre',\n",
       " '2011-12-25': 'Jour de Noël',\n",
       " '2010-01-01': '1er janvier',\n",
       " '2010-04-05': 'Lundi de Pâques',\n",
       " '2010-05-01': '1er mai',\n",
       " '2010-05-08': '8 mai',\n",
       " '2010-05-13': 'Ascension',\n",
       " '2010-05-24': 'Lundi de Pentecôte',\n",
       " '2010-07-14': '14 juillet',\n",
       " '2010-08-15': 'Assomption',\n",
       " '2010-11-01': 'Toussaint',\n",
       " '2010-11-11': '11 novembre',\n",
       " '2010-12-25': 'Jour de Noël',\n",
       " '2009-01-01': '1er janvier',\n",
       " '2009-04-13': 'Lundi de Pâques',\n",
       " '2009-05-01': '1er mai',\n",
       " '2009-05-08': '8 mai',\n",
       " '2009-05-21': 'Ascension',\n",
       " '2009-06-01': 'Lundi de Pentecôte',\n",
       " '2009-07-14': '14 juillet',\n",
       " '2009-08-15': 'Assomption',\n",
       " '2009-11-01': 'Toussaint',\n",
       " '2009-11-11': '11 novembre',\n",
       " '2009-12-25': 'Jour de Noël',\n",
       " '2008-01-01': '1er janvier',\n",
       " '2008-03-24': 'Lundi de Pâques',\n",
       " '2008-05-01': 'Ascension',\n",
       " '2008-05-08': '8 mai',\n",
       " '2008-05-12': 'Lundi de Pentecôte',\n",
       " '2008-07-14': '14 juillet',\n",
       " '2008-08-15': 'Assomption',\n",
       " '2008-11-01': 'Toussaint',\n",
       " '2008-11-11': '11 novembre',\n",
       " '2008-12-25': 'Jour de Noël',\n",
       " '2007-01-01': '1er janvier',\n",
       " '2007-04-09': 'Lundi de Pâques',\n",
       " '2007-05-01': '1er mai',\n",
       " '2007-05-08': '8 mai',\n",
       " '2007-05-17': 'Ascension',\n",
       " '2007-05-28': 'Lundi de Pentecôte',\n",
       " '2007-07-14': '14 juillet',\n",
       " '2007-08-15': 'Assomption',\n",
       " '2007-11-01': 'Toussaint',\n",
       " '2007-11-11': '11 novembre',\n",
       " '2007-12-25': 'Jour de Noël',\n",
       " '2006-01-01': '1er janvier',\n",
       " '2006-04-17': 'Lundi de Pâques',\n",
       " '2006-05-01': '1er mai',\n",
       " '2006-05-08': '8 mai',\n",
       " '2006-05-25': 'Ascension',\n",
       " '2006-06-05': 'Lundi de Pentecôte',\n",
       " '2006-07-14': '14 juillet',\n",
       " '2006-08-15': 'Assomption',\n",
       " '2006-11-01': 'Toussaint',\n",
       " '2006-11-11': '11 novembre',\n",
       " '2006-12-25': 'Jour de Noël',\n",
       " '2005-01-01': '1er janvier',\n",
       " '2005-03-28': 'Lundi de Pâques',\n",
       " '2005-05-01': '1er mai',\n",
       " '2005-05-05': 'Ascension',\n",
       " '2005-05-08': '8 mai',\n",
       " '2005-05-16': 'Lundi de Pentecôte',\n",
       " '2005-07-14': '14 juillet',\n",
       " '2005-08-15': 'Assomption',\n",
       " '2005-11-01': 'Toussaint',\n",
       " '2005-11-11': '11 novembre',\n",
       " '2005-12-25': 'Jour de Noël',\n",
       " '2004-01-01': '1er janvier',\n",
       " '2004-04-12': 'Lundi de Pâques',\n",
       " '2004-05-01': '1er mai',\n",
       " '2004-05-08': '8 mai',\n",
       " '2004-05-20': 'Ascension',\n",
       " '2004-05-31': 'Lundi de Pentecôte',\n",
       " '2004-07-14': '14 juillet',\n",
       " '2004-08-15': 'Assomption',\n",
       " '2004-11-01': 'Toussaint',\n",
       " '2004-11-11': '11 novembre',\n",
       " '2004-12-25': 'Jour de Noël',\n",
       " '2003-01-01': '1er janvier',\n",
       " '2003-04-21': 'Lundi de Pâques',\n",
       " '2003-05-01': '1er mai',\n",
       " '2003-05-08': '8 mai',\n",
       " '2003-05-29': 'Ascension',\n",
       " '2003-06-09': 'Lundi de Pentecôte',\n",
       " '2003-07-14': '14 juillet',\n",
       " '2003-08-15': 'Assomption',\n",
       " '2003-11-01': 'Toussaint',\n",
       " '2003-11-11': '11 novembre',\n",
       " '2003-12-25': 'Jour de Noël'}"
      ]
     },
     "execution_count": 29,
     "metadata": {},
     "output_type": "execute_result"
    }
   ],
   "source": [
    "import requests\n",
    "\n",
    "headers = {\n",
    "    'Host': 'calendrier.api.gouv.fr',\n",
    "    'apiKey' : key\n",
    "}\n",
    "\n",
    "response = requests.get('http://localhost:8000/jours-feries/metropole.json', headers=headers)\n",
    "response.json()"
   ]
  },
  {
   "cell_type": "markdown",
   "metadata": {},
   "source": [
    "## Securiser via OIDC "
   ]
  },
  {
   "cell_type": "markdown",
   "metadata": {},
   "source": [
    "Créer un client dans Keycloak\n",
    "1. Récupérer le nom du client\n",
    "2. Settings/AccessType = bearer only\n",
    "3. Onglet crédentials => Récupérer Secret"
   ]
  },
  {
   "cell_type": "code",
   "execution_count": 30,
   "metadata": {},
   "outputs": [],
   "source": [
    "CLIENT_SECRETS = \"831f49a5-f8cb-400e-8792-a8145066259b\""
   ]
  },
  {
   "cell_type": "code",
   "execution_count": 31,
   "metadata": {},
   "outputs": [],
   "source": [
    "KEYCLOAK_HOST_IP=\"keycloak\"\n",
    "KEYCLOAK_PORT=8080\n",
    "AUTH_URI = f\"http://{KEYCLOAK_HOST_IP}:{KEYCLOAK_PORT}\"\n",
    "\n",
    "introspection_url = f'{AUTH_URI}/auth/realms/master/protocol/openid-connect/token/introspect'\n",
    "discovery_url = f'{AUTH_URI}/auth/realms/master/.well-known/openid-configuration'\n"
   ]
  },
  {
   "cell_type": "code",
   "execution_count": 116,
   "metadata": {},
   "outputs": [],
   "source": [
    "data = {\n",
    "    'name': 'oidc',\n",
    "    'config.client_id': 'kong',\n",
    "    'config.client_secret': f'{CLIENT_SECRETS}',\n",
    "    'config.realm': 'master',\n",
    "    'config.bearer_only': 'true',\n",
    "    'config.introspection_endpoint': introspection_url,\n",
    "    'config.discovery': discovery_url\n",
    "}\n",
    "\n",
    "response = requests.post(f'http://localhost:8001/services/{SERVICE_ID}/plugins', data=data)"
   ]
  },
  {
   "cell_type": "code",
   "execution_count": 117,
   "metadata": {},
   "outputs": [
    {
     "data": {
      "text/plain": [
       "{'created_at': 1630491017,\n",
       " 'id': 'e5f75078-3822-4252-b1f3-0fdb60f4cb09',\n",
       " 'tags': None,\n",
       " 'enabled': True,\n",
       " 'protocols': ['grpc', 'grpcs', 'http', 'https'],\n",
       " 'name': 'oidc',\n",
       " 'consumer': None,\n",
       " 'service': {'id': 'ce6941e8-f461-4e3b-bdc3-843b5ab3030c'},\n",
       " 'route': None,\n",
       " 'config': {'response_type': 'code',\n",
       "  'introspection_endpoint': 'http://keycloak:8080/auth/realms/master/protocol/openid-connect/token/introspect',\n",
       "  'filters': None,\n",
       "  'bearer_only': 'true',\n",
       "  'ssl_verify': 'no',\n",
       "  'session_secret': None,\n",
       "  'introspection_endpoint_auth_method': None,\n",
       "  'realm': 'master',\n",
       "  'redirect_after_logout_uri': '/',\n",
       "  'scope': 'openid',\n",
       "  'token_endpoint_auth_method': 'client_secret_post',\n",
       "  'logout_path': '/logout',\n",
       "  'client_id': 'kong',\n",
       "  'client_secret': '7c9fce0f-66d1-4eee-8dcf-3711cd5c5043',\n",
       "  'discovery': 'http://keycloak:8080/auth/realms/master/.well-known/openid-configuration',\n",
       "  'recovery_page_path': None,\n",
       "  'redirect_uri_path': None}}"
      ]
     },
     "execution_count": 117,
     "metadata": {},
     "output_type": "execute_result"
    }
   ],
   "source": [
    "response.json()"
   ]
  },
  {
   "cell_type": "code",
   "execution_count": null,
   "metadata": {},
   "outputs": [],
   "source": []
  },
  {
   "cell_type": "code",
   "execution_count": null,
   "metadata": {},
   "outputs": [],
   "source": []
  },
  {
   "cell_type": "markdown",
   "metadata": {},
   "source": [
    "## Ajouter Rate limiting"
   ]
  },
  {
   "cell_type": "markdown",
   "metadata": {},
   "source": [
    "https://docs.konghq.com/hub/kong-inc/rate-limiting/"
   ]
  },
  {
   "cell_type": "code",
   "execution_count": 32,
   "metadata": {},
   "outputs": [
    {
     "name": "stderr",
     "output_type": "stream",
     "text": [
      "  % Total    % Received % Xferd  Average Speed   Time    Time     Time  Current\n",
      "                                 Dload  Upload   Total   Spent    Left  Speed\n",
      "\n",
      "  0     0    0     0    0     0      0      0 --:--:-- --:--:-- --:--:--     0\n",
      "100   832  100   760  100    72  22112   2094 --:--:-- --:--:-- --:--:-- 24470\n"
     ]
    },
    {
     "name": "stdout",
     "output_type": "stream",
     "text": [
      "{\"name\":\"rate-limiting\",\"instance_name\":null,\"id\":\"da9b04f3-bf18-461b-8696-1bb255421311\",\"route\":null,\"service\":{\"id\":\"e8e5fdd8-e041-46af-948a-4077090d519d\"},\"enabled\":true,\"tags\":null,\"consumer\":null,\"config\":{\"second\":5,\"redis_ssl\":false,\"hour\":10000,\"day\":null,\"path\":null,\"redis_port\":6379,\"policy\":\"local\",\"redis_username\":null,\"redis_ssl_verify\":false,\"fault_tolerant\":true,\"redis_server_name\":null,\"hide_client_headers\":false,\"redis_password\":null,\"redis_database\":0,\"redis_timeout\":2000,\"redis_host\":null,\"month\":null,\"limit_by\":\"consumer\",\"error_code\":429,\"error_message\":\"API rate limit exceeded\",\"header_name\":null,\"sync_rate\":-1,\"year\":null,\"minute\":null},\"protocols\":[\"grpc\",\"grpcs\",\"http\",\"https\"],\"created_at\":1697806439,\"updated_at\":1697806439}\n"
     ]
    }
   ],
   "source": [
    "!curl -X POST http://localhost:8001/services/e8e5fdd8-e041-46af-948a-4077090d519d/plugins \\\n",
    "    --data \"name=rate-limiting\"  \\\n",
    "    --data \"config.second=5\" \\\n",
    "    --data \"config.hour=10000\" \\\n",
    "    --data \"config.policy=local\""
   ]
  },
  {
   "cell_type": "code",
   "execution_count": null,
   "metadata": {},
   "outputs": [],
   "source": [
    "# Tests "
   ]
  },
  {
   "cell_type": "code",
   "execution_count": 33,
   "metadata": {},
   "outputs": [
    {
     "name": "stdout",
     "output_type": "stream",
     "text": [
      "200\n",
      "200\n",
      "200\n",
      "200\n",
      "200\n",
      "200\n",
      "200\n",
      "429\n",
      "429\n",
      "429\n"
     ]
    }
   ],
   "source": [
    "headers = {\n",
    "    'Host': 'calendrier.api.gouv.fr',\n",
    "    'apiKey' : key\n",
    "}\n",
    "for i in range(10):\n",
    "    response = requests.get('http://localhost:8000/jours-feries/metropole.json', headers=headers)\n",
    "    print(response.status_code)"
   ]
  },
  {
   "cell_type": "markdown",
   "metadata": {},
   "source": [
    "## Ajouter une restriction d'IP "
   ]
  },
  {
   "cell_type": "markdown",
   "metadata": {},
   "source": [
    "https://docs.konghq.com/hub/kong-inc/ip-restriction/"
   ]
  },
  {
   "cell_type": "markdown",
   "metadata": {},
   "source": [
    "#### Curl "
   ]
  },
  {
   "cell_type": "code",
   "execution_count": 34,
   "metadata": {},
   "outputs": [
    {
     "name": "stdout",
     "output_type": "stream",
     "text": [
      "{\"name\":\"ip-restriction\",\"instance_name\":null,\"id\":\"2b2608e3-0149-4d43-ad85-cfbfcbfb053a\",\"route\":null,\"service\":{\"id\":\"e8e5fdd8-e041-46af-948a-4077090d519d\"},\"enabled\":true,\"tags\":null,\"consumer\":null,\"config\":{\"allow\":[\"82.210.36.251\"],\"message\":null,\"deny\":null,\"status\":null},\"protocols\":[\"http\",\"https\",\"tcp\",\"tls\",\"grpc\",\"grpcs\"],\"created_at\":1697806527,\"updated_at\":1697806527}\n"
     ]
    },
    {
     "name": "stderr",
     "output_type": "stream",
     "text": [
      "  % Total    % Received % Xferd  Average Speed   Time    Time     Time  Current\n",
      "                                 Dload  Upload   Total   Spent    Left  Speed\n",
      "\n",
      "  0     0    0     0    0     0      0      0 --:--:-- --:--:-- --:--:--     0\n",
      "100   430  100   384  100    46   9023   1080 --:--:-- --:--:-- --:--:-- 10238\n"
     ]
    }
   ],
   "source": [
    "!curl -X POST http://localhost:8001/services/e8e5fdd8-e041-46af-948a-4077090d519d/plugins \\\n",
    "    --data \"name=ip-restriction\"  \\\n",
    "    --data \"config.allow=82.210.36.251\""
   ]
  },
  {
   "cell_type": "markdown",
   "metadata": {},
   "source": [
    "#### Requests"
   ]
  },
  {
   "cell_type": "code",
   "execution_count": 35,
   "metadata": {},
   "outputs": [],
   "source": [
    "import requests\n",
    "\n",
    "data = {\n",
    "  'name': 'ip-restriction',\n",
    "  'config.allow': '82.210.36.251'\n",
    "}\n",
    "\n",
    "response = requests.post(f'http://localhost:8001/services/{SERVICE_ID}/plugins', data=data)\n"
   ]
  },
  {
   "cell_type": "markdown",
   "metadata": {},
   "source": [
    "#### Tester"
   ]
  },
  {
   "cell_type": "code",
   "execution_count": 36,
   "metadata": {},
   "outputs": [
    {
     "data": {
      "text/plain": [
       "{'message': 'IP address not allowed: 172.22.0.1'}"
      ]
     },
     "execution_count": 36,
     "metadata": {},
     "output_type": "execute_result"
    }
   ],
   "source": [
    "import requests\n",
    "\n",
    "headers = {\n",
    "    'Host': 'calendrier.api.gouv.fr',\n",
    "    'apiKey' : key\n",
    "}\n",
    "\n",
    "response = requests.get('http://localhost:8000/jours-feries/metropole.json', headers=headers)\n",
    "response.json()"
   ]
  },
  {
   "cell_type": "markdown",
   "metadata": {},
   "source": [
    "## Ajouter une gestion des CORS"
   ]
  },
  {
   "cell_type": "code",
   "execution_count": 37,
   "metadata": {},
   "outputs": [
    {
     "ename": "IndentationError",
     "evalue": "unexpected indent (522621646.py, line 2)",
     "output_type": "error",
     "traceback": [
      "\u001b[1;36m  Cell \u001b[1;32mIn[37], line 2\u001b[1;36m\u001b[0m\n\u001b[1;33m    --data \"config.credentials=true\" \\\u001b[0m\n\u001b[1;37m    ^\u001b[0m\n\u001b[1;31mIndentationError\u001b[0m\u001b[1;31m:\u001b[0m unexpected indent\n"
     ]
    }
   ],
   "source": [
    "!curl -X POST http://{HOST}:8001/services/61c5a40a-b533-412f-801d-6a964175f9f0/plugins \\\n",
    "    --data \"name=cors\"  \\\n",
    "    --data \"config.origins=http://localhost:4200\" \\\n",
    "    --data \"config.methods=GET\" \\\n",
    "    --data \"config.methods=POST\" \\\n",
    "    --data \"config.headers=Accept\" \\\n",
    "    --data \"config.headers=Accept-Version\" \\\n",
    "    --data \"config.headers=Content-Length\" \\\n",
    "    --data \"config.headers=Content-MD5\" \\\n",
    "    --data \"config.headers=Content-Type\" \\\n",
    "    --data \"config.headers=Date\" \\\n",
    "    --data \"config.headers=X-Auth-Token\" \\\n",
    "    --data \"config.exposed_headers=X-Auth-Token\" \\7BHOST\n",
    "    --data \"config.credentials=true\" \\\n",
    "    --data \"config.max_age=3600\" \\\n",
    "    --data \"config.preflight_continue=false\""
   ]
  },
  {
   "cell_type": "markdown",
   "metadata": {},
   "source": [
    "#### Requests "
   ]
  },
  {
   "cell_type": "code",
   "execution_count": 76,
   "metadata": {},
   "outputs": [
    {
     "data": {
      "text/plain": [
       "{'created_at': 1630488696,\n",
       " 'id': '8eb0c4fe-566b-419c-b25a-de658a14ba53',\n",
       " 'tags': None,\n",
       " 'enabled': True,\n",
       " 'protocols': ['grpc', 'grpcs', 'http', 'https'],\n",
       " 'name': 'cors',\n",
       " 'consumer': None,\n",
       " 'service': {'id': '61c5a40a-b533-412f-801d-6a964175f9f0'},\n",
       " 'route': None,\n",
       " 'config': {'methods': ['GET', 'POST'],\n",
       "  'exposed_headers': ['X-Auth-Token'],\n",
       "  'max_age': 3600,\n",
       "  'headers': ['Accept',\n",
       "   'Accept-Version',\n",
       "   'Content-Length',\n",
       "   'Content-MD5',\n",
       "   'Content-Type',\n",
       "   'Date',\n",
       "   'X-Auth-Token'],\n",
       "  'origins': ['http://localhost:4200'],\n",
       "  'credentials': True,\n",
       "  'preflight_continue': False}}"
      ]
     },
     "execution_count": 76,
     "metadata": {},
     "output_type": "execute_result"
    }
   ],
   "source": [
    "import requests\n",
    "\n",
    "data = [\n",
    "  ('name', 'cors'),\n",
    "  ('config.origins', 'http://localhost:4200'),\n",
    "  ('config.methods', 'GET'),\n",
    "  ('config.methods', 'POST'),\n",
    "  ('config.headers', 'Accept'),\n",
    "  ('config.headers', 'Accept-Version'),\n",
    "  ('config.headers', 'Content-Length'),\n",
    "  ('config.headers', 'Content-MD5'),\n",
    "  ('config.headers', 'Content-Type'),\n",
    "  ('config.headers', 'Date'),\n",
    "  ('config.headers', 'X-Auth-Token'),\n",
    "  ('config.exposed_headers', 'X-Auth-Token'),\n",
    "  ('config.credentials', 'true'),\n",
    "  ('config.max_age', '3600'),\n",
    "  ('config.preflight_continue', 'false'),\n",
    "]\n",
    "\n",
    "response = requests.post(f'http://localhost:8001/services/{SERVICE_ID}/plugins', data=data)\n",
    "response.json()"
   ]
  },
  {
   "cell_type": "markdown",
   "metadata": {},
   "source": [
    "### Supprimer un plugin"
   ]
  },
  {
   "cell_type": "markdown",
   "metadata": {},
   "source": [
    "#### Trouver son ID"
   ]
  },
  {
   "cell_type": "code",
   "execution_count": 72,
   "metadata": {},
   "outputs": [
    {
     "data": {
      "text/plain": [
       "{'next': None,\n",
       " 'data': [{'created_at': 1630488090,\n",
       "   'id': 'bbc7865c-f4a0-45c5-a7a3-5ecea128b6cd',\n",
       "   'tags': None,\n",
       "   'enabled': True,\n",
       "   'protocols': ['grpc', 'grpcs', 'http', 'https'],\n",
       "   'name': 'rate-limiting',\n",
       "   'consumer': None,\n",
       "   'service': {'id': '61c5a40a-b533-412f-801d-6a964175f9f0'},\n",
       "   'route': None,\n",
       "   'config': {'minute': None,\n",
       "    'redis_host': None,\n",
       "    'redis_timeout': 2000,\n",
       "    'limit_by': 'consumer',\n",
       "    'hour': 10000,\n",
       "    'policy': 'local',\n",
       "    'month': None,\n",
       "    'redis_password': None,\n",
       "    'second': 5,\n",
       "    'day': None,\n",
       "    'hide_client_headers': False,\n",
       "    'path': None,\n",
       "    'redis_database': 0,\n",
       "    'year': None,\n",
       "    'redis_port': 6379,\n",
       "    'header_name': None,\n",
       "    'fault_tolerant': True}},\n",
       "  {'created_at': 1630487929,\n",
       "   'id': 'f044f28e-09f3-4672-b74e-401b4258a113',\n",
       "   'tags': None,\n",
       "   'enabled': True,\n",
       "   'protocols': ['grpc', 'grpcs', 'http', 'https'],\n",
       "   'name': 'key-auth',\n",
       "   'consumer': None,\n",
       "   'service': {'id': '61c5a40a-b533-412f-801d-6a964175f9f0'},\n",
       "   'route': None,\n",
       "   'config': {'key_in_query': True,\n",
       "    'key_names': ['apikey'],\n",
       "    'key_in_header': True,\n",
       "    'run_on_preflight': True,\n",
       "    'anonymous': None,\n",
       "    'hide_credentials': False,\n",
       "    'key_in_body': False}}]}"
      ]
     },
     "execution_count": 72,
     "metadata": {},
     "output_type": "execute_result"
    }
   ],
   "source": [
    "response = requests.get('http://localhost:8001/plugins')\n",
    "response.json()"
   ]
  },
  {
   "cell_type": "code",
   "execution_count": 71,
   "metadata": {},
   "outputs": [
    {
     "data": {
      "text/plain": [
       "<Response [204]>"
      ]
     },
     "execution_count": 71,
     "metadata": {},
     "output_type": "execute_result"
    }
   ],
   "source": [
    "response = requests.delete('http://localhost:8001/plugins/6aab662b-5c79-4dcc-8f75-b26425ca391e')\n",
    "response"
   ]
  },
  {
   "cell_type": "markdown",
   "metadata": {},
   "source": [
    "# A vous de jouer "
   ]
  },
  {
   "cell_type": "markdown",
   "metadata": {},
   "source": [
    "1. Réaliser les mêmes opérations pour votre API.\n",
    "2. Créer un fichier de provision vous permettant d'exécuter ces commandes facilement pour la configuration de votre application."
   ]
  },
  {
   "cell_type": "markdown",
   "metadata": {},
   "source": []
  },
  {
   "cell_type": "code",
   "execution_count": null,
   "metadata": {},
   "outputs": [],
   "source": []
  },
  {
   "cell_type": "code",
   "execution_count": null,
   "metadata": {},
   "outputs": [],
   "source": []
  },
  {
   "cell_type": "code",
   "execution_count": null,
   "metadata": {},
   "outputs": [],
   "source": []
  },
  {
   "cell_type": "code",
   "execution_count": null,
   "metadata": {},
   "outputs": [],
   "source": []
  },
  {
   "cell_type": "code",
   "execution_count": null,
   "metadata": {},
   "outputs": [],
   "source": []
  }
 ],
 "metadata": {
  "kernelspec": {
   "display_name": "Python 3",
   "language": "python",
   "name": "python3"
  },
  "language_info": {
   "codemirror_mode": {
    "name": "ipython",
    "version": 3
   },
   "file_extension": ".py",
   "mimetype": "text/x-python",
   "name": "python",
   "nbconvert_exporter": "python",
   "pygments_lexer": "ipython3",
   "version": "3.10.9"
  }
 },
 "nbformat": 4,
 "nbformat_minor": 4
}
